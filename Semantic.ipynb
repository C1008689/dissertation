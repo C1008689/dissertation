{
 "cells": [
  {
   "cell_type": "code",
   "execution_count": null,
   "id": "adb56010-1812-4dbb-a705-3c48966409a7",
   "metadata": {},
   "outputs": [
    {
     "name": "stderr",
     "output_type": "stream",
     "text": [
      "[nltk_data] Downloading package punkt to /Users/aqibullah/nltk_data...\n",
      "[nltk_data]   Package punkt is already up-to-date!\n",
      "[nltk_data] Downloading package stopwords to\n",
      "[nltk_data]     /Users/aqibullah/nltk_data...\n",
      "[nltk_data]   Package stopwords is already up-to-date!\n",
      "[nltk_data] Downloading package wordnet to\n",
      "[nltk_data]     /Users/aqibullah/nltk_data...\n",
      "[nltk_data]   Package wordnet is already up-to-date!\n"
     ]
    },
    {
     "name": "stdout",
     "output_type": "stream",
     "text": [
      "Processed 0 lines.\n",
      "Processed 10000 lines.\n",
      "Training complete.\n"
     ]
    }
   ],
   "source": [
    "import json\n",
    "import nltk\n",
    "from nltk.corpus import wordnet, stopwords\n",
    "from nltk.tokenize import word_tokenize\n",
    "from sklearn.feature_extraction.text import HashingVectorizer\n",
    "from sklearn.linear_model import SGDClassifier\n",
    "import joblib\n",
    "\n",
    "# Download necessary NLTK datasets\n",
    "nltk.download('punkt')\n",
    "nltk.download('stopwords')\n",
    "nltk.download('wordnet')\n",
    "\n",
    "# Set of English stop words\n",
    "stop_words = set(stopwords.words('english'))\n",
    "\n",
    "def get_synonyms(word):\n",
    "    \"\"\"Retrieve synonyms for a given word using WordNet.\"\"\"\n",
    "    synonyms = set()\n",
    "    for syn in wordnet.synsets(word):\n",
    "        for lemma in syn.lemmas():\n",
    "            synonyms.add(lemma.name())\n",
    "    return synonyms\n",
    "\n",
    "def preprocess_text(text):\n",
    "    \"\"\"Tokenize text, remove stopwords, and enrich with synonyms.\"\"\"\n",
    "    word_tokens = word_tokenize(text)\n",
    "    filtered_sentence = []\n",
    "    for w in word_tokens:\n",
    "        if w.lower() not in stop_words:\n",
    "            synonyms = get_synonyms(w)\n",
    "            filtered_sentence.extend(synonyms)\n",
    "    return \" \".join(filtered_sentence)\n",
    "\n",
    "def process_line(line):\n",
    "    \"\"\"Load JSON data, extract review text and sentiment based on rating.\"\"\"\n",
    "    json_data = json.loads(line)\n",
    "    text = json_data.get('reviewText', '')\n",
    "    overall = json_data.get('overall', 0)\n",
    "    sentiment = 1 if overall > 3 else 0\n",
    "    return preprocess_text(text), sentiment\n",
    "\n",
    "# Initialize the vectorizer and the SGDClassifier\n",
    "vectorizer = HashingVectorizer(stop_words='english', n_features=2**18, alternate_sign=False)\n",
    "classifier = SGDClassifier(loss='log_loss')  # Correct loss parameter\n",
    "\n",
    "# Path to your JSON file\n",
    "file_path = '/Users/aqibullah/Downloads/15000.json'\n",
    "\n",
    "# Process the file in chunks to manage memory usage\n",
    "chunk_size = 1000\n",
    "X_chunk, y_chunk = [], []\n",
    "\n",
    "with open(file_path, 'r', encoding='utf-8') as file:\n",
    "    for i, line in enumerate(file):\n",
    "        X_line, y_line = process_line(line)\n",
    "        X_chunk.append(X_line)\n",
    "        y_chunk.append(y_line)\n",
    "        \n",
    "        if len(X_chunk) == chunk_size:\n",
    "            X_vectorized = vectorizer.transform(X_chunk)\n",
    "            classifier.partial_fit(X_vectorized, y_chunk, classes=[0, 1])\n",
    "            X_chunk, y_chunk = [], []  # Clear the chunk\n",
    "\n",
    "        if i % 10000 == 0:\n",
    "            print(f\"Processed {i} lines.\")\n",
    "\n",
    "# Make sure the last chunk is processed\n",
    "if X_chunk:\n",
    "    X_vectorized = vectorizer.transform(X_chunk)\n",
    "    classifier.partial_fit(X_vectorized, y_chunk, classes=[0, 1])\n",
    "\n",
    "# Save the classifier to disk\n",
    "joblib.dump(classifier, 'sentiment_classifier.pkl')\n",
    "\n",
    "print(\"Training complete.\")"
   ]
  }
 ],
 "metadata": {
  "language_info": {
   "codemirror_mode": {
    "name": "ipython",
    "version": 3
   },
   "file_extension": ".py",
   "mimetype": "text/x-python",
   "name": "python",
   "nbconvert_exporter": "python",
   "pygments_lexer": "ipython3",
   "version": 3
  }
 },
 "nbformat": 4,
 "nbformat_minor": 2
}
