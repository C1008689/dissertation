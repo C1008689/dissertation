{
 "cells": [
  {
   "cell_type": "code",
   "execution_count": null,
   "id": "a31f6ae5-2ce2-40ef-b88d-fde3ef4aa526",
   "metadata": {},
   "outputs": [
    {
     "name": "stderr",
     "output_type": "stream",
     "text": [
      "[nltk_data] Downloading package vader_lexicon to\n",
      "[nltk_data]     /Users/aqibullah/nltk_data...\n",
      "[nltk_data]   Package vader_lexicon is already up-to-date!\n"
     ]
    },
    {
     "name": "stdout",
     "output_type": "stream",
     "text": [
      "VADER Model Performance:\n",
      "Accuracy: 0.7466666666666667\n",
      "Precision: 0.8242967794537301\n",
      "Recall: 0.8600595491280306\n",
      "F1-Score: 0.8417985012489593\n"
     ]
    }
   ],
   "source": [
    "import json\n",
    "from nltk.sentiment import SentimentIntensityAnalyzer\n",
    "from nltk import download\n",
    "from sklearn.metrics import accuracy_score, precision_score, recall_score, f1_score\n",
    "from sklearn.model_selection import train_test_split\n",
    "\n",
    "download('vader_lexicon')  # Make sure the VADER lexicon is downloaded\n",
    "\n",
    "def preprocess_text(text):\n",
    "    \"\"\"Function to preprocess text by lowering the case.\"\"\"\n",
    "    return text.lower()\n",
    "\n",
    "def get_vader_sentiment(text):\n",
    "    \"\"\"Use VADER to determine sentiment based on compound score.\"\"\"\n",
    "    sid = SentimentIntensityAnalyzer()\n",
    "    sentiment_score = sid.polarity_scores(text)['compound']\n",
    "    return 1 if sentiment_score >= 0.05 else 0  # Threshold can be adjusted\n",
    "\n",
    "# Load your dataset\n",
    "X_data, y_data = [], []\n",
    "file_path = '/Users/aqibullah/Downloads/15000.json'  # Update this path\n",
    "with open(file_path, 'r', encoding='utf-8') as file:\n",
    "    for line in file:\n",
    "        json_data = json.loads(line)\n",
    "        text = json_data.get('reviewText', '')\n",
    "        processed_text = preprocess_text(text)\n",
    "        overall = json_data.get('overall', 0)\n",
    "        sentiment = 1 if overall > 3 else 0  # Example binary sentiment based on rating\n",
    "        X_data.append(processed_text)\n",
    "        y_data.append(sentiment)\n",
    "\n",
    "# Split data into training and testing sets\n",
    "X_train, X_test, y_train, y_test = train_test_split(X_data, y_data, test_size=0.2, random_state=42)\n",
    "\n",
    "# Make predictions using VADER on the test set\n",
    "y_pred = [get_vader_sentiment(text) for text in X_test]\n",
    "\n",
    "# Calculate performance metrics\n",
    "accuracy = accuracy_score(y_test, y_pred)\n",
    "precision = precision_score(y_test, y_pred)\n",
    "recall = recall_score(y_test, y_pred)\n",
    "f1 = f1_score(y_test, y_pred)\n",
    "\n",
    "print(\"VADER Model Performance:\")\n",
    "print(\"Accuracy:\", accuracy)\n",
    "print(\"Precision:\", precision)\n",
    "print(\"Recall:\", recall)\n",
    "print(\"F1-Score:\", f1)"
   ]
  }
 ],
 "metadata": {
  "language_info": {
   "codemirror_mode": {
    "name": "ipython",
    "version": 3
   },
   "file_extension": ".py",
   "mimetype": "text/x-python",
   "name": "python",
   "nbconvert_exporter": "python",
   "pygments_lexer": "ipython3",
   "version": 3
  }
 },
 "nbformat": 4,
 "nbformat_minor": 2
}
