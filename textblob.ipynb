{
 "cells": [
  {
   "cell_type": "code",
   "execution_count": null,
   "id": "e4466c11-87fa-43ff-acef-da265c809417",
   "metadata": {},
   "outputs": [
    {
     "name": "stderr",
     "output_type": "stream",
     "text": [
      "[nltk_data] Downloading package punkt to /Users/aqibullah/nltk_data...\n",
      "[nltk_data]   Package punkt is already up-to-date!\n",
      "[nltk_data] Downloading package stopwords to\n",
      "[nltk_data]     /Users/aqibullah/nltk_data...\n",
      "[nltk_data]   Package stopwords is already up-to-date!\n"
     ]
    },
    {
     "name": "stdout",
     "output_type": "stream",
     "text": [
      "TextBlob Model Performance:\n",
      "Accuracy: 0.7766666666666666\n",
      "Precision: 0.8128023818384815\n",
      "Recall: 0.9289663972777541\n",
      "F1-Score: 0.8670107185391028\n"
     ]
    },
    {
     "data": {
      "text/plain": [
       "['textblob_performance.pkl']"
      ]
     },
     "execution_count": 1,
     "metadata": {},
     "output_type": "execute_result"
    }
   ],
   "source": [
    "import json\n",
    "import joblib\n",
    "from textblob import TextBlob\n",
    "from nltk.tokenize import word_tokenize\n",
    "from nltk.corpus import stopwords\n",
    "from sklearn.model_selection import train_test_split\n",
    "from sklearn.metrics import accuracy_score, precision_score, recall_score, f1_score\n",
    "\n",
    "# Load necessary NLTK data\n",
    "import nltk\n",
    "nltk.download('punkt')\n",
    "nltk.download('stopwords')\n",
    "\n",
    "# Set of English stop words\n",
    "stop_words = set(stopwords.words('english'))\n",
    "\n",
    "def preprocess_text(text):\n",
    "    \"\"\"Tokenize text and remove stopwords.\"\"\"\n",
    "    word_tokens = word_tokenize(text)\n",
    "    return \" \".join([w for w in word_tokens if w.lower() not in stop_words and w.isalnum()])\n",
    "\n",
    "def get_textblob_sentiment(text):\n",
    "    \"\"\"Use TextBlob to determine sentiment based on polarity.\"\"\"\n",
    "    blob = TextBlob(text)\n",
    "    return 1 if blob.sentiment.polarity > 0 else 0\n",
    "\n",
    "# Load and preprocess the data\n",
    "X_data, y_data = [], []\n",
    "file_path = '/Users/aqibullah/Downloads/15000.json'\n",
    "with open(file_path, 'r', encoding='utf-8') as file:\n",
    "    for line in file:\n",
    "        json_data = json.loads(line)\n",
    "        text = json_data.get('reviewText', '')\n",
    "        overall = json_data.get('overall', 0)\n",
    "        processed_text = preprocess_text(text)\n",
    "        sentiment = 1 if overall > 3 else 0  # Using rating to determine sentiment (for comparison)\n",
    "        X_data.append(processed_text)\n",
    "        y_data.append(sentiment)\n",
    "\n",
    "# Split the data into training and testing sets\n",
    "X_train, X_test, y_train, y_test = train_test_split(X_data, y_data, test_size=0.2, random_state=42)\n",
    "\n",
    "# No need to vectorize data for TextBlob, directly use the processed text\n",
    "# Make predictions on the test set using TextBlob\n",
    "y_pred = [get_textblob_sentiment(text) for text in X_test]\n",
    "\n",
    "# Calculate performance metrics\n",
    "accuracy = accuracy_score(y_test, y_pred)\n",
    "precision = precision_score(y_test, y_pred)\n",
    "recall = recall_score(y_test, y_pred)\n",
    "f1 = f1_score(y_test, y_pred)\n",
    "\n",
    "print(\"TextBlob Model Performance:\")\n",
    "print(\"Accuracy:\", accuracy)\n",
    "print(\"Precision:\", precision)\n",
    "print(\"Recall:\", recall)\n",
    "print(\"F1-Score:\", f1)\n",
    "\n",
    "# Optionally, save the results using joblib for later review\n",
    "joblib.dump({'X_test': X_test, 'y_test': y_test, 'y_pred': y_pred}, 'textblob_performance.pkl')"
   ]
  }
 ],
 "metadata": {
  "language_info": {
   "codemirror_mode": {
    "name": "ipython",
    "version": 3
   },
   "file_extension": ".py",
   "mimetype": "text/x-python",
   "name": "python",
   "nbconvert_exporter": "python",
   "pygments_lexer": "ipython3",
   "version": 3
  }
 },
 "nbformat": 4,
 "nbformat_minor": 2
}
